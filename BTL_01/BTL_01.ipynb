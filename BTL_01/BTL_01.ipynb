{
 "cells": [
  {
   "cell_type": "code",
   "execution_count": 42,
   "id": "61f1c7d1",
   "metadata": {},
   "outputs": [
    {
     "name": "stdout",
     "output_type": "stream",
     "text": [
      "Số lượng giá trị ban đầu: 7816\n",
      "giá trị min: 0\n",
      "giá trị max: 27000000\n"
     ]
    }
   ],
   "source": [
    "import pandas as pd\n",
    "import numpy as np\n",
    "import matplotlib.pyplot as plt\n",
    "\n",
    "raw_data = pd.read_json('oto_sample.json')\n",
    "\n",
    "specs_data = pd.json_normalize(raw_data[\"specs\"])\n",
    "\n",
    "num_km = specs_data[\"Số Km đã đi\"]\n",
    "def conv_km_to_num(km_str):\n",
    "\tif isinstance(km_str, str):\n",
    "\t\tkm_str = km_str.replace(\" Km\", \"\").replace(\",\", \"\")\n",
    "\t\ttry:\n",
    "\t\t\treturn int(km_str)\n",
    "\t\texcept ValueError:\n",
    "\t\t\treturn np.nan\n",
    "\treturn np.nan\n",
    "num_km = num_km.apply(conv_km_to_num)\n",
    "\n",
    "print(f\"Số lượng giá trị ban đầu: {len(num_km)}\")\n",
    "print(f\"giá trị min: {num_km.min()}\")\n",
    "print(f\"giá trị max: {num_km.max()}\")\n"
   ]
  },
  {
   "cell_type": "code",
   "execution_count": null,
   "id": "a7969290",
   "metadata": {},
   "outputs": [
    {
     "name": "stdout",
     "output_type": "stream",
     "text": [
      "giá trị cận dưới: -39500.0\n",
      "giá trị cận trên: 92500.0\n",
      "Số lượng dữ liệu ban đầu: 7816\n",
      "Số lượng dữ liệu sau khi loại bỏ ngoại lệ: 7687\n",
      "Số lượng ngoại lệ bị loại bỏ: 129\n"
     ]
    }
   ],
   "source": [
    "\n",
    "# Loại bỏ ngoại lệ sử dụng IQR\n",
    "Q1 = num_km.quantile(0.25)\n",
    "Q3 = num_km.quantile(0.75)\n",
    "IQR = Q3 - Q1\n",
    "\n",
    "lower_bound = Q1 - 1.5 * IQR\n",
    "upper_bound = Q3 + 1.5 * IQR\n",
    "\n",
    "num_km_clean = num_km[\n",
    "    (num_km >= lower_bound) & (num_km <= upper_bound)\n",
    "]\n",
    "\n",
    "print(f\"giá trị cận dưới: {lower_bound}\")\n",
    "print(f\"giá trị cận trên: {upper_bound}\")\n",
    "print(f\"Số lượng dữ liệu ban đầu: {len(num_km)}\")\n",
    "print(f\"Số lượng dữ liệu sau khi loại bỏ ngoại lệ: {len(num_km_clean)}\")\n",
    "print(f\"Số lượng ngoại lệ bị loại bỏ: {len(num_km) - len(num_km_clean)}\")"
   ]
  },
  {
   "cell_type": "code",
   "execution_count": 43,
   "id": "edb639f3",
   "metadata": {},
   "outputs": [
    {
     "data": {
      "text/plain": [
       "Text(0.5, 1.0, 'Phân phối dữ liệu sau chuẩn hóa (Z-score)')"
      ]
     },
     "execution_count": 43,
     "metadata": {},
     "output_type": "execute_result"
    },
    {
     "data": {
      "image/png": "[encoded data removed]",
      "text/plain": [
       "<Figure size 1200x400 with 1 Axes>"
      ]
     },
     "metadata": {},
     "output_type": "display_data"
    }
   ],
   "source": [
    "# Chuẩn hóa dữ liệu sử dụng Z-score\n",
    "mean_km = num_km_clean.mean()\n",
    "std_km = num_km_clean.std()\n",
    "z_scores = (num_km_clean - mean_km) / std_km\n",
    "\n",
    "plt.figure(figsize=(12, 4))\n",
    "plt.subplot(1, 2, 1)\n",
    "plt.hist(z_scores, bins=200, alpha=0.7, color='blue', edgecolor='black')\n",
    "plt.title('Phân phối dữ liệu sau chuẩn hóa (Z-score)')"
   ]
  },
  {
   "cell_type": "code",
   "execution_count": 36,
   "id": "ada602ef",
   "metadata": {},
   "outputs": [
    {
     "name": "stdout",
     "output_type": "stream",
     "text": [
      "Kích thước mẫu (n): 7,687\n",
      "Trung bình mẫu (x̄): 27,816.63 km\n",
      "Độ lệch chuẩn mẫu (s): 21,054.66 km\n",
      "\n",
      "Mức tin cậy: 95.0%\n",
      "Mức ý nghĩa (alpha): 0.05\n",
      "Giá trị Z: 1.9600\n",
      "\n",
      "KẾT QUẢ ƯỚC LƯỢNG:\n",
      "Sai số ước lượng (ME): ±470.67 km\n",
      "Khoảng tin cậy 95%: [27,346, 28,287] km\n"
     ]
    }
   ],
   "source": [
    "import scipy.stats as stats\n",
    "\n",
    "n = len(num_km_clean)  \n",
    "sample_mean = num_km_clean.mean()  \n",
    "sample_std = num_km_clean.std()  \n",
    "\n",
    "print(f\"Kích thước mẫu (n): {n:,}\")\n",
    "print(f\"Trung bình mẫu (x̄): {sample_mean:,.2f} km\")\n",
    "print(f\"Độ lệch chuẩn mẫu (s): {sample_std:,.2f} km\")\n",
    "\n",
    "confidence_level = 0.95\n",
    "alpha = 1 - confidence_level\n",
    "\n",
    "z_alpha = stats.norm.ppf(1 - alpha/2)\n",
    "\n",
    "print(f\"\\nMức tin cậy: {confidence_level*100}%\")\n",
    "print(f\"Mức ý nghĩa (alpha): {alpha:.2f}\")\n",
    "print(f\"Giá trị Z: {z_alpha:.4f}\")\n",
    "\n",
    "margin_error = z_alpha * (sample_std / np.sqrt(n))\n",
    "lower_bound = sample_mean - margin_error\n",
    "upper_bound = sample_mean + margin_error\n",
    "\n",
    "print(f\"\\nKẾT QUẢ ƯỚC LƯỢNG:\")\n",
    "print(f\"Sai số ước lượng (ME): ±{margin_error:,.2f} km\")\n",
    "print(f\"Khoảng tin cậy 95%: [{lower_bound:,.0f}, {upper_bound:,.0f}] km\")"
   ]
  },
  {
   "cell_type": "code",
   "execution_count": 37,
   "id": "7184f7b7",
   "metadata": {},
   "outputs": [
    {
     "name": "stdout",
     "output_type": "stream",
     "text": [
      "KIỂM ĐỊNH GIẢ THUYẾT: SỐ KM TRUNG BÌNH < 30,000 KM\n",
      "============================================================\n",
      "BƯỚC 1: ĐẶT GIẢ THUYẾT\n",
      "------------------------------\n",
      "H₀: μ ≥ 30,000 (số km trung bình ≥ 30,000)\n",
      "H₁: μ < 30,000 (số km trung bình < 30,000)\n",
      "Loại kiểm định: One-tailed test (kiểm định một phía bên trái)\n",
      "\n",
      "BƯỚC 2: XÁC ĐỊNH MIỀN BÁC BỎ\n",
      "------------------------------\n",
      "Mức ý nghĩa: α = 0.05\n",
      "Vì H₁: μ < μ₀, miền bác bỏ W_α = (-∞, -z_α)\n",
      "Giá trị tới hạn: z_α = -1.6449\n",
      "Miền bác bỏ: W_α = (-∞, -1.6449)\n",
      "\n",
      "BƯỚC 3: TÍNH GIÁ TRỊ QUAN SÁT\n",
      "------------------------------\n",
      "Kích thước mẫu (n): 7,687\n",
      "Trung bình mẫu (x̄): 27,816.63 km\n",
      "Độ lệch chuẩn mẫu (s): 21,054.66 km\n",
      "Giá trị giả thuyết (μ₀): 30,000 km\n",
      "\n",
      "Thống kê kiểm định:\n",
      "z_qs = (x̄ - μ₀)/(s/√n) = (27816.63 - 30000)/((21054.66)/√7687)\n",
      "z_qs = -9.0919\n",
      "\n",
      "BƯỚC 4: KẾT LUẬN\n",
      "------------------------------\n",
      "Giá trị quan sát: z_qs = -9.0919\n",
      "Miền bác bỏ: W_α = (-∞, -1.6449)\n",
      "Vì z_qs = -9.0919 < -1.6449 = z_α\n",
      "⟹ z_qs ∈ W_α\n",
      "KẾT LUẬN: BÁC BỎ giả thuyết H₀\n",
      "Có bằng chứng thống kê cho rằng số km trung bình < 30,000 km\n",
      "\n",
      "KIỂM CHỨNG BẰNG P-VALUE:\n",
      "P-value = P(Z < -9.0919) = 0.000000\n",
      "So sánh: P-value = 0.000000 < α = 0.05\n",
      "Kết luận: Bác bỏ H₀\n"
     ]
    }
   ],
   "source": [
    "# KIỂM ĐỊNH GIẢ THUYẾT THEO CÁC BƯỚC CHUẨN\n",
    "print(\"KIỂM ĐỊNH GIẢ THUYẾT: SỐ KM TRUNG BÌNH < 30,000 KM\")\n",
    "print(\"=\"*60)\n",
    "\n",
    "# BƯỚC 1: Đặt giả thuyết H0 và đối thuyết H1\n",
    "print(\"BƯỚC 1: ĐẶT GIẢ THUYẾT\")\n",
    "print(\"-\" * 30)\n",
    "print(\"H₀: μ ≥ 30,000 (số km trung bình ≥ 30,000)\")\n",
    "print(\"H₁: μ < 30,000 (số km trung bình < 30,000)\")\n",
    "print(\"Loại kiểm định: One-tailed test (kiểm định một phía bên trái)\")\n",
    "\n",
    "# BƯỚC 2: Xác định miền bác bỏ H0\n",
    "alpha = 0.05\n",
    "print(f\"\\nBƯỚC 2: XÁC ĐỊNH MIỀN BÁC BỎ\")\n",
    "print(\"-\" * 30)\n",
    "print(f\"Mức ý nghĩa: α = {alpha}\")\n",
    "print(\"Vì H₁: μ < μ₀, miền bác bỏ W_α = (-∞, -z_α)\")\n",
    "\n",
    "# Tính giá trị tới hạn\n",
    "z_critical = stats.norm.ppf(alpha)\n",
    "print(f\"Giá trị tới hạn: z_α = {z_critical:.4f}\")\n",
    "print(f\"Miền bác bỏ: W_α = (-∞, {z_critical:.4f})\")\n",
    "\n",
    "# BƯỚC 3: Tính giá trị quan sát\n",
    "print(f\"\\nBƯỚC 3: TÍNH GIÁ TRỊ QUAN SÁT\")\n",
    "print(\"-\" * 30)\n",
    "\n",
    "# Thông số mẫu\n",
    "n = len(num_km_clean)\n",
    "sample_mean = num_km_clean.mean()\n",
    "sample_std = num_km_clean.std()\n",
    "mu_0 = 30000\n",
    "\n",
    "print(f\"Kích thước mẫu (n): {n:,}\")\n",
    "print(f\"Trung bình mẫu (x̄): {sample_mean:,.2f} km\")\n",
    "print(f\"Độ lệch chuẩn mẫu (s): {sample_std:,.2f} km\")\n",
    "print(f\"Giá trị giả thuyết (μ₀): {mu_0:,} km\")\n",
    "\n",
    "# Tính thống kê kiểm định\n",
    "z_stat = (sample_mean - mu_0) / (sample_std / np.sqrt(n))\n",
    "print(f\"\\nThống kê kiểm định:\")\n",
    "print(f\"z_qs = (x̄ - μ₀)/(s/√n) = ({sample_mean:.2f} - {mu_0})/(({sample_std:.2f})/√{n})\")\n",
    "print(f\"z_qs = {z_stat:.4f}\")\n",
    "\n",
    "# BƯỚC 4: Kết luận\n",
    "print(f\"\\nBƯỚC 4: KẾT LUẬN\")\n",
    "print(\"-\" * 30)\n",
    "print(f\"Giá trị quan sát: z_qs = {z_stat:.4f}\")\n",
    "print(f\"Miền bác bỏ: W_α = (-∞, {z_critical:.4f})\")\n",
    "\n",
    "if z_stat < z_critical:\n",
    "    print(f\"Vì z_qs = {z_stat:.4f} < {z_critical:.4f} = z_α\")\n",
    "    print(\"⟹ z_qs ∈ W_α\")\n",
    "    print(\"KẾT LUẬN: BÁC BỎ giả thuyết H₀\")\n",
    "    print(\"Có bằng chứng thống kê cho rằng số km trung bình < 30,000 km\")\n",
    "else:\n",
    "    print(f\"Vì z_qs = {z_stat:.4f} ≥ {z_critical:.4f} = z_α\")\n",
    "    print(\"⟹ z_qs ∉ W_α\")\n",
    "    print(\"KẾT LUẬN: KHÔNG BÁC BỎ giả thuyết H₀\")\n",
    "    print(\"Không có đủ bằng chứng để kết luận số km trung bình < 30,000 km\")\n",
    "\n",
    "# Tính p-value để kiểm chứng\n",
    "p_value = stats.norm.cdf(z_stat)\n",
    "print(f\"\\nKIỂM CHỨNG BẰNG P-VALUE:\")\n",
    "print(f\"P-value = P(Z < {z_stat:.4f}) = {p_value:.6f}\")\n",
    "print(f\"So sánh: P-value = {p_value:.6f} {'<' if p_value < alpha else '≥'} α = {alpha}\")\n",
    "print(f\"Kết luận: {'Bác bỏ H₀' if p_value < alpha else 'Không bác bỏ H₀'}\")"
   ]
  }
 ],
 "metadata": {
  "kernelspec": {
   "display_name": "Python 3",
   "language": "python",
   "name": "python3"
  },
  "language_info": {
   "codemirror_mode": {
    "name": "ipython",
    "version": 3
   },
   "file_extension": ".py",
   "mimetype": "text/x-python",
   "name": "python",
   "nbconvert_exporter": "python",
   "pygments_lexer": "ipython3",
   "version": "3.12.10"
  }
 },
 "nbformat": 4,
 "nbformat_minor": 5
}
